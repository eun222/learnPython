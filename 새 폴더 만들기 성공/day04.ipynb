{
 "cells": [
  {
   "cell_type": "markdown",
   "id": "uniform-graham",
   "metadata": {},
   "source": [
    "#### 1.1 리스트의 자료형 \n",
    "- 리스트의 정의 : 말 그대로 목록이라는 의미를 가지며, 값을 일렬로 여러개 늘어놓은 형태\n",
    "- 리스트의 생성 : 리스트의 이름 = [값의 목록], 리스트의 이름 = list( )\n",
    "- 리스트의 길이, 범위 : len"
   ]
  },
  {
   "cell_type": "code",
   "execution_count": null,
   "id": "stupid-pottery",
   "metadata": {},
   "outputs": [],
   "source": [
    "# 리스트 생성하기\n",
    "# 리스트의이름 = [값의 목록], 리스트의 이름 = list()\n",
    "lst = [1,2,3,4,5]"
   ]
  },
  {
   "cell_type": "code",
   "execution_count": null,
   "id": "regulation-throat",
   "metadata": {},
   "outputs": [],
   "source": [
    "lst"
   ]
  },
  {
   "cell_type": "code",
   "execution_count": null,
   "id": "anonymous-correspondence",
   "metadata": {},
   "outputs": [],
   "source": [
    "lst[0] # 리스트의 개별 요소에 대한 접근 : 리스트 이름[인덱스]"
   ]
  },
  {
   "cell_type": "code",
   "execution_count": null,
   "id": "global-soundtrack",
   "metadata": {},
   "outputs": [],
   "source": [
    "lst[-1]"
   ]
  },
  {
   "cell_type": "code",
   "execution_count": null,
   "id": "clean-break",
   "metadata": {},
   "outputs": [],
   "source": [
    "# 리스트의 더하기 곱하기"
   ]
  },
  {
   "cell_type": "code",
   "execution_count": null,
   "id": "subsequent-douglas",
   "metadata": {},
   "outputs": [],
   "source": [
    "oddlst = [1,3,5,7,9]\n",
    "evenlst = [2,4,6,8,10]\n",
    "alllst = oddlst + evenlst\n"
   ]
  },
  {
   "cell_type": "code",
   "execution_count": null,
   "id": "statewide-management",
   "metadata": {},
   "outputs": [],
   "source": [
    "alllst"
   ]
  },
  {
   "cell_type": "code",
   "execution_count": null,
   "id": "active-identification",
   "metadata": {},
   "outputs": [],
   "source": [
    "mullst = oddlst * 3"
   ]
  },
  {
   "cell_type": "code",
   "execution_count": null,
   "id": "selected-cowboy",
   "metadata": {},
   "outputs": [],
   "source": [
    "mullst"
   ]
  },
  {
   "cell_type": "code",
   "execution_count": null,
   "id": "loose-greene",
   "metadata": {},
   "outputs": [],
   "source": [
    "lst2 = list()"
   ]
  },
  {
   "cell_type": "markdown",
   "id": "changing-diversity",
   "metadata": {},
   "source": [
    "lst2"
   ]
  },
  {
   "cell_type": "code",
   "execution_count": 1,
   "id": "educational-covering",
   "metadata": {},
   "outputs": [],
   "source": [
    "lst2 = list(range(1,11)) # range(1,2,3) : 1부터 2까지 3만큼 간격으로 출력해라"
   ]
  },
  {
   "cell_type": "code",
   "execution_count": 2,
   "id": "straight-perspective",
   "metadata": {},
   "outputs": [
    {
     "data": {
      "text/plain": [
       "[1, 2, 3, 4, 5, 6, 7, 8, 9, 10]"
      ]
     },
     "execution_count": 2,
     "metadata": {},
     "output_type": "execute_result"
    }
   ],
   "source": [
    "lst2"
   ]
  },
  {
   "cell_type": "code",
   "execution_count": 1,
   "id": "bigger-manhattan",
   "metadata": {},
   "outputs": [
    {
     "data": {
      "text/plain": [
       "['홍길동', '춘향이', '박문수']"
      ]
     },
     "execution_count": 1,
     "metadata": {},
     "output_type": "execute_result"
    }
   ],
   "source": [
    "stName = [\"홍길동\",\"춘향이\",\"박문수\"]\n",
    "stName"
   ]
  },
  {
   "cell_type": "code",
   "execution_count": 2,
   "id": "hispanic-prior",
   "metadata": {},
   "outputs": [],
   "source": [
    "stName.append(\"이지은\")"
   ]
  },
  {
   "cell_type": "code",
   "execution_count": 3,
   "id": "loving-smith",
   "metadata": {},
   "outputs": [
    {
     "data": {
      "text/plain": [
       "['홍길동', '춘향이', '박문수', '이지은']"
      ]
     },
     "execution_count": 3,
     "metadata": {},
     "output_type": "execute_result"
    }
   ],
   "source": [
    "stName"
   ]
  },
  {
   "cell_type": "code",
   "execution_count": 4,
   "id": "signed-organization",
   "metadata": {},
   "outputs": [
    {
     "data": {
      "text/plain": [
       "['홍길동', '춘향이', '박문수']"
      ]
     },
     "execution_count": 4,
     "metadata": {},
     "output_type": "execute_result"
    }
   ],
   "source": [
    "stName.pop()\n",
    "stName"
   ]
  },
  {
   "cell_type": "code",
   "execution_count": 5,
   "id": "pleasant-johnston",
   "metadata": {},
   "outputs": [
    {
     "data": {
      "text/plain": [
       "['홍길동', '을지문덕', '춘향이', '박문수']"
      ]
     },
     "execution_count": 5,
     "metadata": {},
     "output_type": "execute_result"
    }
   ],
   "source": [
    "# 리스트에 항목 삽입 리스트이름.insert(인덱스, 값)\n",
    "stName.insert(1, \"을지문덕\")\n",
    "stName"
   ]
  },
  {
   "cell_type": "code",
   "execution_count": 8,
   "id": "dedicated-builder",
   "metadata": {},
   "outputs": [
    {
     "data": {
      "text/plain": [
       "['홍길동', '을지문덕', '춘향이']"
      ]
     },
     "execution_count": 8,
     "metadata": {},
     "output_type": "execute_result"
    }
   ],
   "source": [
    "# 값으로 항목지우기 : remove()\n",
    "stName.remove(\"박문수\")\n",
    "stName"
   ]
  },
  {
   "cell_type": "code",
   "execution_count": 10,
   "id": "independent-hamilton",
   "metadata": {},
   "outputs": [
    {
     "data": {
      "text/plain": [
       "['홍길동', '춘향이', '을지문덕']"
      ]
     },
     "execution_count": 10,
     "metadata": {},
     "output_type": "execute_result"
    }
   ],
   "source": [
    "# 리스트의 정렬 sort()\n",
    "stName.sort(reverse=True)\n",
    "stName"
   ]
  },
  {
   "cell_type": "code",
   "execution_count": null,
   "id": "surgical-sample",
   "metadata": {},
   "outputs": [],
   "source": [
    "# 리스트에 대해 루프 실행하기"
   ]
  },
  {
   "cell_type": "code",
   "execution_count": 11,
   "id": "similar-metro",
   "metadata": {},
   "outputs": [
    {
     "name": "stdout",
     "output_type": "stream",
     "text": [
      "홍길동\n",
      "춘향이\n",
      "을지문덕\n"
     ]
    }
   ],
   "source": [
    "```\n",
    "print(stName[0])\n",
    "print(stName[1])\n",
    "print(stName[2])\n",
    "```\n",
    "위의 방법은 불편하다"
   ]
  },
  {
   "cell_type": "code",
   "execution_count": 12,
   "id": "comic-services",
   "metadata": {},
   "outputs": [
    {
     "name": "stdout",
     "output_type": "stream",
     "text": [
      "홍길동\n",
      "춘향이\n",
      "을지문덕\n"
     ]
    }
   ],
   "source": [
    "for name in stName:          # 요소를 name 이라고 부르겠다 그리고 stName은 요소를 가지고 있는 공간 \n",
    "    print(name)              # : 은 꼭 필요함 계속 돌아가야 되니까   # 들여쓰기 문법적 요소로 작용함\n",
    "    "
   ]
  },
  {
   "cell_type": "code",
   "execution_count": 13,
   "id": "colonial-studio",
   "metadata": {},
   "outputs": [],
   "source": [
    "tpl = tuple(range(1,11,2))"
   ]
  },
  {
   "cell_type": "code",
   "execution_count": 14,
   "id": "great-bulgaria",
   "metadata": {},
   "outputs": [
    {
     "data": {
      "text/plain": [
       "(1, 3, 5, 7, 9)"
      ]
     },
     "execution_count": 14,
     "metadata": {},
     "output_type": "execute_result"
    }
   ],
   "source": [
    "tpl"
   ]
  },
  {
   "cell_type": "code",
   "execution_count": 20,
   "id": "sporting-samoa",
   "metadata": {},
   "outputs": [
    {
     "name": "stdout",
     "output_type": "stream",
     "text": [
      "[1, 4, 9, 16, 25, 36, 49, 64, 81, 100]\n"
     ]
    }
   ],
   "source": [
    "squares = [value ** 2 for value in range(1,11)]\n",
    "print(squares)"
   ]
  },
  {
   "cell_type": "code",
   "execution_count": 21,
   "id": "significant-maria",
   "metadata": {},
   "outputs": [
    {
     "name": "stdout",
     "output_type": "stream",
     "text": [
      "Audi\n",
      "BMW\n",
      "Subaru\n",
      "Toyota\n"
     ]
    }
   ],
   "source": [
    "cars = ['audi', 'bmw', 'subaru', 'toyota']\n",
    "\n",
    "for car in cars:\n",
    "    if car == 'bmw':\n",
    "        print(car.upper())\n",
    "    else:\n",
    "        print(car.title())"
   ]
  },
  {
   "cell_type": "markdown",
   "id": "substantial-surgeon",
   "metadata": {},
   "source": [
    "**<연습문제>** 5과목의 점수가 score 리스트에 저장되어 있다. 5과목의 평균을 구하고, 평균이 90점 이상이면 A등급을, 80점 이상이면 B등급을, 70점 이상이면, C등급을 부여하고 그렇지 않으면 F등급을 부여하는 프로그램을 작성하시오"
   ]
  },
  {
   "cell_type": "code",
   "execution_count": 7,
   "id": "coral-mentor",
   "metadata": {},
   "outputs": [
    {
     "ename": "SyntaxError",
     "evalue": "invalid syntax (<ipython-input-7-a83f57cef98d>, line 1)",
     "output_type": "error",
     "traceback": [
      "\u001b[1;36m  File \u001b[1;32m\"<ipython-input-7-a83f57cef98d>\"\u001b[1;36m, line \u001b[1;32m1\u001b[0m\n\u001b[1;33m    ```\u001b[0m\n\u001b[1;37m    ^\u001b[0m\n\u001b[1;31mSyntaxError\u001b[0m\u001b[1;31m:\u001b[0m invalid syntax\n"
     ]
    }
   ],
   "source": [
    "```\n",
    "scores = [92, 88, 74, 56, 100]\n",
    "total = 0\n",
    "for score in scores:\n",
    "    total += score \n",
    "    \n",
    "avg = total / 5 \n",
    "    \n",
    "    if avg >= 90:\n",
    "        grade = \"A\"\n",
    "    elif avg >= 80:\n",
    "        grade = \"B\"\n",
    "    elif avg >= 70:\n",
    "        grade = \"C\"\n",
    "    else :\n",
    "        grade = \"F\"\n",
    "        \n",
    "print(grade)\n",
    "```"
   ]
  },
  {
   "cell_type": "code",
   "execution_count": null,
   "id": "british-dallas",
   "metadata": {},
   "outputs": [],
   "source": []
  },
  {
   "cell_type": "code",
   "execution_count": null,
   "id": "secret-louisiana",
   "metadata": {},
   "outputs": [],
   "source": []
  }
 ],
 "metadata": {
  "kernelspec": {
   "display_name": "Python 3",
   "language": "python",
   "name": "python3"
  },
  "language_info": {
   "codemirror_mode": {
    "name": "ipython",
    "version": 3
   },
   "file_extension": ".py",
   "mimetype": "text/x-python",
   "name": "python",
   "nbconvert_exporter": "python",
   "pygments_lexer": "ipython3",
   "version": "3.9.1"
  }
 },
 "nbformat": 4,
 "nbformat_minor": 5
}
