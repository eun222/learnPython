{
 "cells": [
  {
   "cell_type": "markdown",
   "id": "smooth-dollar",
   "metadata": {},
   "source": [
    "# 파이썬 올리기 성공"
   ]
  },
  {
   "cell_type": "code",
   "execution_count": null,
   "id": "vocal-aberdeen",
   "metadata": {},
   "outputs": [],
   "source": []
  }
 ],
 "metadata": {
  "kernelspec": {
   "display_name": "Python 3",
   "language": "python",
   "name": "python3"
  },
  "language_info": {
   "codemirror_mode": {
    "name": "ipython",
    "version": 3
   },
   "file_extension": ".py",
   "mimetype": "text/x-python",
   "name": "python",
   "nbconvert_exporter": "python",
   "pygments_lexer": "ipython3",
   "version": "3.9.1"
  }
 },
 "nbformat": 4,
 "nbformat_minor": 5
}
