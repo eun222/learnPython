{
 "cells": [
  {
   "cell_type": "code",
   "execution_count": null,
   "id": "killing-arlington",
   "metadata": {},
   "outputs": [],
   "source": [
    "a = input(\"a : \")\n",
    "b = input(\"b : \")\n",
    "result = a + b\n",
    "print(str(a) + \" + \" + str(b) + \" = \" + result)"
   ]
  },
  {
   "cell_type": "markdown",
   "id": "sensitive-annex",
   "metadata": {},
   "source": [
    "**<연습문제>** 사용자로부터 태어난 해를 입력 받아 나이를 계산하는 프로그램을 작성해보자."
   ]
  },
  {
   "cell_type": "markdown",
   "id": "patient-performance",
   "metadata": {},
   "source": [
    "### 내가 한 버전"
   ]
  },
  {
   "cell_type": "code",
   "execution_count": 3,
   "id": "delayed-mailing",
   "metadata": {
    "scrolled": true
   },
   "outputs": [
    {
     "name": "stdout",
     "output_type": "stream",
     "text": [
      "태어난 연도를 입력하세요2002\n",
      "20\n"
     ]
    }
   ],
   "source": [
    "b = int(input(\"태어난 연도를 입력하세요\"))\n",
    "result = 2021 - b + 1\n",
    "print(result)"
   ]
  },
  {
   "cell_type": "markdown",
   "id": "arranged-indiana",
   "metadata": {},
   "source": [
    "### 연습문제 선생님 버전"
   ]
  },
  {
   "cell_type": "code",
   "execution_count": 5,
   "id": "committed-offering",
   "metadata": {},
   "outputs": [
    {
     "name": "stdout",
     "output_type": "stream",
     "text": [
      "태어난 해는?2002\n",
      "2002년에 태어난 당신은20살입니다\n"
     ]
    }
   ],
   "source": [
    "birthYear = int(input(\"태어난 해는?\"))\n",
    "thisYear = 2021\n",
    "age = thisYear - birthYear + 1\n",
    "print(str(birthYear) + \"년에 태어난 당신은\" + str(age) + \"살입니다\")"
   ]
  },
  {
   "cell_type": "markdown",
   "id": "julian-capitol",
   "metadata": {},
   "source": [
    "## 변수와 상수\n",
    "**변수 Variable** : 프로그램에서 처리 할 데이터를 저장하는 저장공간의 이름  \n",
    "**상수 Constant** : 변수에 저장되는 숫자 데이터 또는 문자/문자열 데이터 그 자체. literal.  \n",
    "**변수의 형태 Type** : 변수에 보관되는 데이터의 모양과 크기를 type   \n",
    "                       숫자(int, float)/ 문자(char) / 문자열(string) / 부울(boolean) -> 참과 거짓 판별"
   ]
  },
  {
   "cell_type": "markdown",
   "id": "psychological-sponsorship",
   "metadata": {},
   "source": [
    "- print()함수를 사용한 다양한 출력\n",
    "  + 서식의 지정 : 정수의 10진수 %d, 16진수 %x, 8진수 %o, 실수 %f, 한 글자 %c, 문자열 %s\n",
    "  + format과 함께 사용"
   ]
  },
  {
   "cell_type": "code",
   "execution_count": 11,
   "id": "mechanical-argentina",
   "metadata": {},
   "outputs": [
    {
     "name": "stdout",
     "output_type": "stream",
     "text": [
      "00000000\n",
      "   20\n",
      " 20.0\n",
      "24\n",
      "14\n"
     ]
    }
   ],
   "source": [
    "a = 20\n",
    "print(\"00000000\")\n",
    "print(\"%5d\"% a)   # %d : 정수형 10진수 형태로 출력\n",
    "print(\"%5.1f\"% a)   # %f : 정수형 10진수 형태로 출력\n",
    "print(\"%o\"% a)   # %o : 정수형 8진수 형태로 출력\n",
    "print(\"%x\"% a)   # %x : 정수형 16진수 형태로 출력"
   ]
  },
  {
   "cell_type": "code",
   "execution_count": 13,
   "id": "tested-static",
   "metadata": {},
   "outputs": [
    {
     "name": "stdout",
     "output_type": "stream",
     "text": [
      "12345678901234567\n",
      "20    20\n"
     ]
    }
   ],
   "source": [
    "print(\"12345678901234567\")\n",
    "print(\"{0:} {1:5}\" .format(a, a)) ## 콜론 뒤에 쓰는 숫자는 몇 자리를 가져갈지를 결정"
   ]
  },
  {
   "cell_type": "code",
   "execution_count": 14,
   "id": "improved-harbor",
   "metadata": {},
   "outputs": [
    {
     "name": "stdout",
     "output_type": "stream",
     "text": [
      "한국 \n",
      "아이티전문\t학원\n"
     ]
    }
   ],
   "source": [
    "print(\"한국 \\n아이티전문\\t학원\") ## \\n : 줄 바꿈, \\t : 탭, \\b "
   ]
  },
  {
   "cell_type": "markdown",
   "id": "enabling-ethnic",
   "metadata": {},
   "source": [
    "**<연습문제>** 섭씨온도를 입력받아 화씨온도로 변환하여 추력하는 프로그램을 작성하시오. 단,출력을 할 때 섭씨온도와 변환된 화씨온도를 함께 출력해주세요. 소수점 이하 2자리까지 표현하도록 하시오."
   ]
  },
  {
   "cell_type": "markdown",
   "id": "reverse-horizon",
   "metadata": {},
   "source": [
    "### 내가 한 버전"
   ]
  },
  {
   "cell_type": "code",
   "execution_count": 20,
   "id": "welsh-coast",
   "metadata": {},
   "outputs": [
    {
     "name": "stdout",
     "output_type": "stream",
     "text": [
      "섭씨 온도를 입력하세요10\n",
      "10.00도인 섭씨온도를 화씨온도로 변환하면50.00도 입니다\n"
     ]
    }
   ],
   "source": [
    "a = int(input(\"섭씨 온도를 입력하세요\"))\n",
    "b = a * 1.8 + 32\n",
    "print(str(\"%0.2f\"% a) + \"도인 섭씨온도를 화씨온도로 변환하면\" + str(\"%0.2f\"% b) + \"도 입니다\")"
   ]
  },
  {
   "cell_type": "markdown",
   "id": "durable-jamaica",
   "metadata": {},
   "source": [
    "### 연습문제 선생님 버전"
   ]
  },
  {
   "cell_type": "markdown",
   "id": "considered-belief",
   "metadata": {},
   "source": [
    "tempC = int(input(\"섭씨 온도를 입력해주세요\"))\n",
    "tempF = tempC * 1.8 + 32\n",
    "print(\"%5.2f, %5.2f\"% tempC, tempF)\n",
    "print(\"{0:5.2f}, {1:5.2f}\".format(tempC, tempF))"
   ]
  },
  {
   "cell_type": "code",
   "execution_count": 29,
   "id": "corresponding-warrior",
   "metadata": {},
   "outputs": [
    {
     "name": "stdout",
     "output_type": "stream",
     "text": [
      "3.3333333333333335\n",
      "3\n"
     ]
    }
   ],
   "source": [
    "# 몫을 취하는 연산자 : //\n",
    "print(10 / 3)\n",
    "print(10 // 3)"
   ]
  },
  {
   "cell_type": "code",
   "execution_count": 27,
   "id": "respective-australia",
   "metadata": {},
   "outputs": [
    {
     "name": "stdout",
     "output_type": "stream",
     "text": [
      "1\n"
     ]
    }
   ],
   "source": [
    "# 나머지를 구하는 연산자 : %\n",
    "print(10 % 3)"
   ]
  },
  {
   "cell_type": "code",
   "execution_count": 28,
   "id": "running-college",
   "metadata": {},
   "outputs": [
    {
     "name": "stdout",
     "output_type": "stream",
     "text": [
      "27\n"
     ]
    }
   ],
   "source": [
    "# 거듭제곱을 구하는 연산자 : **\n",
    "print(3 ** 3)"
   ]
  },
  {
   "cell_type": "markdown",
   "id": "rental-procurement",
   "metadata": {},
   "source": [
    "**<연습문제>** 원의 반지름을 입력받아 면적을 구하는 프로그램을 작성하시오"
   ]
  },
  {
   "cell_type": "markdown",
   "id": "suburban-insert",
   "metadata": {},
   "source": [
    "### 내가 했는데 뭔가 이상함"
   ]
  },
  {
   "cell_type": "code",
   "execution_count": 37,
   "id": "middle-sunrise",
   "metadata": {},
   "outputs": [
    {
     "name": "stdout",
     "output_type": "stream",
     "text": [
      "반지름의 값을 입력하세요10\n",
      "314\n"
     ]
    }
   ],
   "source": [
    "r = int(input(\"반지름의 값을 입력하세요\"))\n",
    "P = 3.141592\n",
    "a = P * r * r\n",
    "print((\"%d\"% a))"
   ]
  },
  {
   "cell_type": "markdown",
   "id": "correct-gregory",
   "metadata": {},
   "source": [
    "**<연습문제>** 숫자를 입력받아 홀수인지 짝수인지 판단하는 프로그램을 작성하시오"
   ]
  },
  {
   "cell_type": "code",
   "execution_count": 41,
   "id": "homeless-canadian",
   "metadata": {},
   "outputs": [
    {
     "name": "stdout",
     "output_type": "stream",
     "text": [
      "입력할 숫자는: 5\n",
      "홀수\n"
     ]
    }
   ],
   "source": [
    "b = int(input(\"입력할 숫자는: \"))\n",
    "a = b % 2\n",
    "if(a == 0) :\n",
    "    print(\"짝수\")\n",
    "else : print(\"홀수\")"
   ]
  }
 ],
 "metadata": {
  "kernelspec": {
   "display_name": "Python 3",
   "language": "python",
   "name": "python3"
  },
  "language_info": {
   "codemirror_mode": {
    "name": "ipython",
    "version": 3
   },
   "file_extension": ".py",
   "mimetype": "text/x-python",
   "name": "python",
   "nbconvert_exporter": "python",
   "pygments_lexer": "ipython3",
   "version": "3.9.1"
  }
 },
 "nbformat": 4,
 "nbformat_minor": 5
}
