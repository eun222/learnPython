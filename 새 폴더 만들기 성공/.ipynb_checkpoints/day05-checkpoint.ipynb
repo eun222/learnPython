{
 "cells": [
  {
   "cell_type": "markdown",
   "id": "generous-handle",
   "metadata": {},
   "source": [
    "### 딕셔너리 자료형\n",
    "\n",
    "- 딕셔너리 : {key1:value1, key2:value2,...}\n",
    "- 딕셔너리 쌍 추가\n",
    "- 딕셔너리 요소 삭제\n",
    "- key값 사용 value 얻기\n",
    "- key 리스트 만들기 keys()\n",
    "- value 리스트 만들기 values()\n",
    "- key, value 쌍 얻기 items()\n",
    "- key, value 쌍 모두 지우기 clear()\n",
    "- key로 value 얻기 get()\n",
    "- 해당 키가 딕셔너리 안에 있는지 조사하기 in()"
   ]
  },
  {
   "cell_type": "code",
   "execution_count": 1,
   "id": "thrown-casting",
   "metadata": {},
   "outputs": [],
   "source": [
    "# 딕셔너리 정의(생성) - 키와 값의 연관관계에 의한 접근.\n",
    "student1 = {'name':'홍길동', 'address':'청주시 상당구'}\n",
    "student2 = {'name':'갑순이', 'address':'청주시 흥덕구'}"
   ]
  },
  {
   "cell_type": "code",
   "execution_count": 2,
   "id": "supreme-redhead",
   "metadata": {},
   "outputs": [
    {
     "data": {
      "text/plain": [
       "'홍길동'"
      ]
     },
     "execution_count": 2,
     "metadata": {},
     "output_type": "execute_result"
    }
   ],
   "source": [
    "student1['name']"
   ]
  },
  {
   "cell_type": "code",
   "execution_count": 3,
   "id": "thermal-uruguay",
   "metadata": {},
   "outputs": [],
   "source": [
    "student1['phone'] = '010-1234-4567' # 딕셔너리에 새로운 키-값 쌍 추가"
   ]
  },
  {
   "cell_type": "code",
   "execution_count": 4,
   "id": "committed-county",
   "metadata": {},
   "outputs": [
    {
     "name": "stdout",
     "output_type": "stream",
     "text": [
      "{'name': '홍길동', 'address': '청주시 상당구', 'phone': '010-1234-4567'}\n"
     ]
    }
   ],
   "source": [
    "print(student1)"
   ]
  },
  {
   "cell_type": "code",
   "execution_count": 5,
   "id": "narrow-probability",
   "metadata": {},
   "outputs": [],
   "source": [
    "student1['address'] = '청주시 서원구' # 딕셔너리 값 수정"
   ]
  },
  {
   "cell_type": "code",
   "execution_count": 6,
   "id": "passing-major",
   "metadata": {},
   "outputs": [
    {
     "name": "stdout",
     "output_type": "stream",
     "text": [
      "{'name': '홍길동', 'address': '청주시 서원구', 'phone': '010-1234-4567'}\n"
     ]
    }
   ],
   "source": [
    "print(student1)"
   ]
  },
  {
   "cell_type": "code",
   "execution_count": 7,
   "id": "brave-former",
   "metadata": {},
   "outputs": [],
   "source": [
    "del student1['address'] # 딕셔너리 값 제거"
   ]
  },
  {
   "cell_type": "code",
   "execution_count": 8,
   "id": "robust-processor",
   "metadata": {},
   "outputs": [
    {
     "name": "stdout",
     "output_type": "stream",
     "text": [
      "{'name': '홍길동', 'phone': '010-1234-4567'}\n"
     ]
    }
   ],
   "source": [
    "print(student1)"
   ]
  },
  {
   "cell_type": "code",
   "execution_count": null,
   "id": "twenty-stock",
   "metadata": {},
   "outputs": [],
   "source": [
    "# result = student1['address']\n",
    "# 오류를 방지하고, 키가 없을 때는 지정된 값을 반환하도록 한다."
   ]
  },
  {
   "cell_type": "code",
   "execution_count": 17,
   "id": "linear-composition",
   "metadata": {},
   "outputs": [
    {
     "name": "stdout",
     "output_type": "stream",
     "text": [
      "\n",
      "Key: name\n",
      "Value: 갑순이\n",
      "\n",
      "Key: address\n",
      "Value: 청주시 흥덕구\n"
     ]
    }
   ],
   "source": [
    "for key, value in student2.items():  # keys(), values()\n",
    "    print(f\"\\nKey: {key}\")\n",
    "    print(f\"Value: {value}\")"
   ]
  },
  {
   "cell_type": "code",
   "execution_count": 20,
   "id": "sublime-planner",
   "metadata": {},
   "outputs": [
    {
     "name": "stdout",
     "output_type": "stream",
     "text": [
      "\n",
      "Jen's favorite languages are:\n",
      "\tPython\n",
      "\tRuby\n",
      "\n",
      "Sarah's favorite languages are:\n",
      "\tC\n",
      "\n",
      "Edward's favorite languages are:\n",
      "\tRuby\n",
      "\tGo\n",
      "\n",
      "Phil's favorite languages are:\n",
      "\tPython\n",
      "\tHaskell\n"
     ]
    }
   ],
   "source": [
    "favorite_languages = {\n",
    "    'jen' : ['python', 'ruby'],\n",
    "    'sarah' : ['c'],\n",
    "    'edward' : ['ruby', 'go'],\n",
    "    'phil' : ['python', 'haskell'],\n",
    "}\n",
    "\n",
    "for name, languages in favorite_languages.items():\n",
    "    print(f\"\\n{name.title()}'s favorite languages are:\")\n",
    "    for language in languages:\n",
    "        print(f\"\\t{language.title()}\")"
   ]
  },
  {
   "cell_type": "markdown",
   "id": "european-welcome",
   "metadata": {},
   "source": [
    "### 집합 자료형\n",
    "집합은 순서의 개념이 없고, 중복을 허용하지 않는다.\n",
    "\n",
    "- 집합 생성하기 : set 키워드 사용, set()의 괄호안에 리스트를 입력하여 만든다.\n",
    "- 교집합 &, intersection\n",
    "- 합집합 |, union\n",
    "- 차집합 -, difference\n",
    "- 집합에 한 개 값 추가하기 add()\n",
    "- 집합에 여러 개 값 추가하기 update()\n",
    "- 특정 값 제거하기 remove()"
   ]
  },
  {
   "cell_type": "markdown",
   "id": "everyday-fifty",
   "metadata": {},
   "source": [
    "# 2. 순차적 제어 연습\n",
    "시간의 변화에 따른 하루 일과를 프로그램으로 표현해보자. 시간과 일과를 차례로 출력하는 프로그램을 작성하시오."
   ]
  },
  {
   "cell_type": "markdown",
   "id": "agricultural-internship",
   "metadata": {},
   "source": [
    "# 3. 조건 제어 연습\n",
    "조건제어는 관계연산자 또는 논리연산자 등을 사용하여 조건문을 테스트해서 조건이 참인 경우와 거짓인 경우에 대하여 각각 실행을 달리하는 방식.\n",
    "사용가능한 관계연산자로는 >, <, >=, <=, ==, != 등을 사용하고, 논리 연산자로 and, or, not등의 연산자를 사용한다."
   ]
  },
  {
   "cell_type": "markdown",
   "id": "individual-motion",
   "metadata": {},
   "source": [
    "# 4. 반복문\n",
    "\n",
    "### 4.1 while을 사용하는 반복문\n",
    "```\n",
    "while 조건식:\n",
    "    반복구문\n",
    "```"
   ]
  },
  {
   "cell_type": "code",
   "execution_count": 22,
   "id": "continent-andrew",
   "metadata": {},
   "outputs": [
    {
     "name": "stdout",
     "output_type": "stream",
     "text": [
      "반복할 횟수를 입력해주세요3\n",
      "0 번째 실행\n",
      "1 번째 실행\n",
      "2 번째 실행\n",
      "반복 종료 후 i 값은 3\n"
     ]
    }
   ],
   "source": [
    "cnt = int(input(\"반복할 횟수를 입력해주세요\"))\n",
    "i = 0;\n",
    "while i < cnt :\n",
    "    print(i, \"번째 실행\")\n",
    "    i = i + 1\n",
    "    \n",
    "print(\"반복 종료 후 i 값은\", i)"
   ]
  },
  {
   "cell_type": "markdown",
   "id": "collectible-judges",
   "metadata": {},
   "source": [
    "**<연습문제>** 1부터 5까지의 숫자를 출력하는 프로그램을 작성하시오"
   ]
  },
  {
   "cell_type": "code",
   "execution_count": 23,
   "id": "introductory-macro",
   "metadata": {},
   "outputs": [
    {
     "name": "stdout",
     "output_type": "stream",
     "text": [
      "1\n",
      "2\n",
      "3\n",
      "4\n",
      "5\n"
     ]
    }
   ],
   "source": [
    "num1 =1;\n",
    "while num1 < 6 :\n",
    "    print(num1)\n",
    "    num1 = num1 + 1"
   ]
  },
  {
   "cell_type": "code",
   "execution_count": 25,
   "id": "posted-polls",
   "metadata": {},
   "outputs": [
    {
     "name": "stdout",
     "output_type": "stream",
     "text": [
      "작업번호를 입력해주세요. 0을 입력하면 종료합니다1\n",
      "작업번호를 입력해주세요. 0을 입력하면 종료합니다4\n",
      "작업번호를 입력해주세요. 0을 입력하면 종료합니다5\n",
      "작업번호를 입력해주세요. 0을 입력하면 종료합니다54\n",
      "작업번호를 입력해주세요. 0을 입력하면 종료합니다8\n",
      "작업번호를 입력해주세요. 0을 입력하면 종료합니다4\n",
      "작업번호를 입력해주세요. 0을 입력하면 종료합니다5\n",
      "작업번호를 입력해주세요. 0을 입력하면 종료합니다548\n",
      "작업번호를 입력해주세요. 0을 입력하면 종료합니다451\n",
      "작업번호를 입력해주세요. 0을 입력하면 종료합니다454\n",
      "작업번호를 입력해주세요. 0을 입력하면 종료합니다456\n",
      "작업번호를 입력해주세요. 0을 입력하면 종료합니다4563\n",
      "작업번호를 입력해주세요. 0을 입력하면 종료합니다156\n",
      "작업번호를 입력해주세요. 0을 입력하면 종료합니다999\n",
      "작업번호를 입력해주세요. 0을 입력하면 종료합니다0\n",
      "프로그램을 종료합니다.\n"
     ]
    }
   ],
   "source": [
    "job = 999\n",
    "while True :\n",
    "    job = int(input(\"작업번호를 입력해주세요. 0을 입력하면 종료합니다\"))\n",
    "    if job == 0 : break\n",
    "    else : continue\n",
    "        \n",
    "print(\"프로그램을 종료합니다.\")"
   ]
  },
  {
   "cell_type": "code",
   "execution_count": 31,
   "id": "cosmetic-learning",
   "metadata": {},
   "outputs": [
    {
     "name": "stdout",
     "output_type": "stream",
     "text": [
      "작업번호를 입력해주세요. 0을 입력하면 종료합니다1\n",
      "작업번호를 입력해주세요. 0을 입력하면 종료합니다2\n",
      "작업번호를 입력해주세요. 0을 입력하면 종료합니다3\n",
      "작업번호를 입력해주세요. 0을 입력하면 종료합니다4\n",
      "작업번호를 입력해주세요. 0을 입력하면 종료합니다5\n",
      "작업번호를 입력해주세요. 0을 입력하면 종료합니다6\n",
      "작업번호를 입력해주세요. 0을 입력하면 종료합니다7\n",
      "작업번호를 입력해주세요. 0을 입력하면 종료합니다8\n",
      "작업번호를 입력해주세요. 0을 입력하면 종료합니다0\n",
      "프로그램을 종료합니다.\n"
     ]
    }
   ],
   "source": [
    "job = 3\n",
    "while job != 0 :\n",
    "    job = int(input(\"작업번호를 입력해주세요. 0을 입력하면 종료합니다\"))\n",
    "    \n",
    "print(\"프로그램을 종료합니다.\")"
   ]
  },
  {
   "cell_type": "code",
   "execution_count": 32,
   "id": "cooked-visit",
   "metadata": {},
   "outputs": [
    {
     "name": "stdout",
     "output_type": "stream",
     "text": [
      "['주호', '재은', '지은', '정호', '동진', '동주']\n"
     ]
    }
   ],
   "source": [
    "unconfirmed_users = ['동주', '동진', '정호', '지은', '재은', '주호']\n",
    "confirmed_users = []\n",
    "\n",
    "while unconfirmed_users:\n",
    "    current_user = unconfirmed_users.pop()\n",
    "    confirmed_users.append(current_user)\n",
    "    \n",
    "print(confirmed_users)"
   ]
  },
  {
   "cell_type": "markdown",
   "id": "narrative-butterfly",
   "metadata": {},
   "source": [
    "**<5-3>** 외계인 색깔#1 : 게임에서 지금 막 외계인을 격추했다고 합시다. alien_color 변수를 만들고 그 값에 'green'이나 'yello', 'red'를 할당하세요. "
   ]
  },
  {
   "cell_type": "code",
   "execution_count": 49,
   "id": "going-square",
   "metadata": {},
   "outputs": [
    {
     "name": "stdout",
     "output_type": "stream",
     "text": [
      "에일리언의 색을 입력하세요red\n",
      "점수를 획득하지 못하였습니다\n"
     ]
    }
   ],
   "source": [
    "# alien_colors = ['green', 'yello', 'red']\n",
    "alien_color = str(input(\"에일리언의 색을 입력하세요\"))\n",
    "if 'green' in alien_color :\n",
    "    print(\"플레이어가 5점을 획득하였습니다\")\n",
    "else :\n",
    "    print(\"점수를 획득하지 못하였습니다\")"
   ]
  },
  {
   "cell_type": "markdown",
   "id": "clear-asian",
   "metadata": {},
   "source": [
    "**<5-6>** 성장단계 : if-elif-else 문을 써서 사람의 성장단계를 판단하세요. 먼저 age 변수의 값을 정하세요."
   ]
  },
  {
   "cell_type": "code",
   "execution_count": 52,
   "id": "composed-senior",
   "metadata": {},
   "outputs": [
    {
     "name": "stdout",
     "output_type": "stream",
     "text": [
      "사람의 나이를 입력하세요4\n",
      "kid\n"
     ]
    }
   ],
   "source": [
    "age = int(input(\"사람의 나이를 입력하세요\"))\n",
    "\n",
    "if age < 2 :\n",
    "    print(\"baby\")\n",
    "elif 2 <= age < 4 :\n",
    "    print(\"toddler\")\n",
    "elif 4 <= age < 13 :\n",
    "    print(\"kid\")\n",
    "elif 13 <= age < 20 :\n",
    "    print(\"teenager\")\n",
    "elif 20 <= age < 65 :\n",
    "    print(\"adult\")\n",
    "else : \n",
    "    print(\"elder\")"
   ]
  },
  {
   "cell_type": "markdown",
   "id": "banner-design",
   "metadata": {},
   "source": [
    "**<5-9>** 사용자 없음 : hello_admin.py에 if 테스트를 추가해 사용자 리스트가 비어 있지 않음을 확인하세요. 리스트가 비어 있으면 '사용자가 있어야 합니다!' 라는 메시지를 출력하세요. 리스트에서 사용자 이름을 모두 제거하고 정확한 메시지가 출력되는지 확인하세요."
   ]
  },
  {
   "cell_type": "code",
   "execution_count": null,
   "id": "dirty-knitting",
   "metadata": {},
   "outputs": [],
   "source": []
  },
  {
   "cell_type": "code",
   "execution_count": null,
   "id": "contained-shepherd",
   "metadata": {},
   "outputs": [],
   "source": []
  },
  {
   "cell_type": "code",
   "execution_count": null,
   "id": "brutal-breathing",
   "metadata": {},
   "outputs": [],
   "source": []
  },
  {
   "cell_type": "code",
   "execution_count": null,
   "id": "historic-causing",
   "metadata": {},
   "outputs": [],
   "source": []
  },
  {
   "cell_type": "markdown",
   "id": "charitable-consciousness",
   "metadata": {},
   "source": [
    "**<7-1>** 렌트카 : 프로그램 사용자에게 어떤 종류의 렌트카를 원하는지 묻는 프로그램을 만드세요. 그 렌트카에 대해 \"스바루를 찾아보겠습니다.\" 같은 메시지를 출력하세요."
   ]
  },
  {
   "cell_type": "code",
   "execution_count": 34,
   "id": "former-drove",
   "metadata": {},
   "outputs": [
    {
     "name": "stdout",
     "output_type": "stream",
     "text": [
      "어떤 종류의 렌트카를 원하십니까?아우디\n",
      "아우디에 대한 스바루를 찾아보겠습니다.\n"
     ]
    }
   ],
   "source": [
    "lent_car = input(\"어떤 종류의 렌트카를 원하십니까?\")\n",
    "print(str(lent_car) + \"에 대한 스바루를 찾아보겠습니다.\")"
   ]
  },
  {
   "cell_type": "markdown",
   "id": "expired-serbia",
   "metadata": {},
   "source": [
    "**<7-4>** 피자토핑 : 사용자가 'quit' 값을 입력할 때까지 계속해서 어떤 피자 토핑을 추가할지 물어보는 루프를 만드세요. 사용자가 토핑을 입력하면 그 토핑을 피자에 추가하겠다는 메시지를 출력하세요."
   ]
  },
  {
   "cell_type": "code",
   "execution_count": 51,
   "id": "aware-assumption",
   "metadata": {
    "scrolled": true
   },
   "outputs": [
    {
     "name": "stdout",
     "output_type": "stream",
     "text": [
      "어떤 피자 토핑을 추가하시겠습니까?치즈\n",
      "치즈 토핑을 추가하겠습니다\n",
      "어떤 피자 토핑을 추가하시겠습니까?quit\n",
      "이용해주셔서 감사합니다\n"
     ]
    }
   ],
   "source": [
    "pizza_topping = '페퍼로니'\n",
    "while True :\n",
    "    pizza_topping = str(input(\"어떤 피자 토핑을 추가하시겠습니까?\"))\n",
    "    if pizza_topping == 'quit' : break\n",
    "    else : print(str(pizza_topping) + \" 토핑을 추가하겠습니다\")\n",
    "        \n",
    "print(\"이용해주셔서 감사합니다\")"
   ]
  },
  {
   "cell_type": "markdown",
   "id": "comfortable-killing",
   "metadata": {},
   "source": [
    "**<7-7>** 무한루프 : 절대 끝나지 않는 루프를 만들고 실행하세요. 루프를 끝내려면 컨트롤-C를 누르거나 결과 창을 닫으세요."
   ]
  },
  {
   "cell_type": "code",
   "execution_count": null,
   "id": "arctic-cameroon",
   "metadata": {},
   "outputs": [],
   "source": []
  },
  {
   "cell_type": "markdown",
   "id": "convertible-karma",
   "metadata": {},
   "source": [
    "**<7-10>** "
   ]
  },
  {
   "cell_type": "code",
   "execution_count": null,
   "id": "exciting-fitness",
   "metadata": {},
   "outputs": [],
   "source": []
  }
 ],
 "metadata": {
  "kernelspec": {
   "display_name": "Python 3",
   "language": "python",
   "name": "python3"
  },
  "language_info": {
   "codemirror_mode": {
    "name": "ipython",
    "version": 3
   },
   "file_extension": ".py",
   "mimetype": "text/x-python",
   "name": "python",
   "nbconvert_exporter": "python",
   "pygments_lexer": "ipython3",
   "version": "3.9.1"
  }
 },
 "nbformat": 4,
 "nbformat_minor": 5
}
