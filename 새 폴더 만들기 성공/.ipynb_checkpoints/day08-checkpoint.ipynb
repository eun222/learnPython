{
 "cells": [
  {
   "cell_type": "markdown",
   "id": "chubby-heaven",
   "metadata": {},
   "source": [
    "# 8일차 수업"
   ]
  },
  {
   "cell_type": "code",
   "execution_count": 13,
   "id": "amino-first",
   "metadata": {
    "scrolled": true
   },
   "outputs": [
    {
     "name": "stdout",
     "output_type": "stream",
     "text": [
      "3.1415926535\n",
      "  8979323846\n",
      "  2643383279\n",
      "\n"
     ]
    }
   ],
   "source": [
    "# 파일 읽기 : open(), read()에 대하여 설명한다.\n",
    "# open() : 파일 객체 반환\n",
    "# with 블록 종료시 파일 자동 close\n",
    "# 파일경로를 이용하여 경로와 파일을 지정할 수 있다.\n",
    "\n",
    "with open('inoutdata/pidigits.txt')as infile:\n",
    "    contents = infile.read()\n",
    "    \n",
    "print(contents)"
   ]
  },
  {
   "cell_type": "code",
   "execution_count": 14,
   "id": "comfortable-television",
   "metadata": {},
   "outputs": [
    {
     "name": "stdout",
     "output_type": "stream",
     "text": [
      "3.1415926535\n",
      "\n",
      "  8979323846\n",
      "\n",
      "  2643383279\n",
      "\n"
     ]
    }
   ],
   "source": [
    "# 행 단위로 읽기\n",
    "with open('inoutdata/pidigits.txt') as infile:\n",
    "    for line in infile:\n",
    "        print(line)  \n",
    "        # print(line.rstrip())  # 공백라인 제거"
   ]
  },
  {
   "cell_type": "code",
   "execution_count": 15,
   "id": "local-ozone",
   "metadata": {},
   "outputs": [
    {
     "name": "stdout",
     "output_type": "stream",
     "text": [
      "3.1415926535\n",
      "  8979323846\n",
      "  2643383279\n"
     ]
    }
   ],
   "source": [
    "# 파일에서 행 리스트 구성하기\n",
    "filepath = 'inoutdata/pidigits.txt'\n",
    "\n",
    "with open(filepath) as infile:\n",
    "    lines = infile.readlines()\n",
    "    # readlines()는 파일로부터 행단위로 읽어 리스트로 구성한다.\n",
    "    \n",
    "for line in lines:\n",
    "    print(line.rstrip())"
   ]
  },
  {
   "cell_type": "code",
   "execution_count": 16,
   "id": "identical-mystery",
   "metadata": {},
   "outputs": [
    {
     "data": {
      "text/plain": [
       "['3.1415926535\\n', '  8979323846\\n', '  2643383279\\n']"
      ]
     },
     "execution_count": 16,
     "metadata": {},
     "output_type": "execute_result"
    }
   ],
   "source": [
    "type(lines)\n",
    "lines"
   ]
  },
  {
   "cell_type": "code",
   "execution_count": 19,
   "id": "organic-forty",
   "metadata": {},
   "outputs": [
    {
     "name": "stdout",
     "output_type": "stream",
     "text": [
      "3.141592653589793238462643383279\n",
      "32\n"
     ]
    }
   ],
   "source": [
    "# 파일 콘텐츠 다루기\n",
    "filepath = 'inoutdata/pidigits.txt'\n",
    "\n",
    "with open(filepath) as infile:\n",
    "    lines = infile.readlines()\n",
    "    \n",
    "piString = ''\n",
    "for line in lines:\n",
    "    piString += line.strip()   # rstrip은 줄만 지워주고 strip은 공백까지 지운다\n",
    "    \n",
    "print(piString)\n",
    "print(len(piString))"
   ]
  },
  {
   "cell_type": "code",
   "execution_count": 23,
   "id": "subsequent-europe",
   "metadata": {},
   "outputs": [
    {
     "name": "stdout",
     "output_type": "stream",
     "text": [
      "1234567890123456789012345678901234567890123456789012345678901234567890123456789012345678901234567890\n",
      "3.1415926535897932384626433832795028841971693993751058209749445923078164062862089986280348253421170...\n",
      "1000002\n"
     ]
    }
   ],
   "source": [
    "# 백만단위의 큰 숫자 다루기\n",
    "filepath = 'inoutdata/mpidigits.txt'\n",
    "\n",
    "with open(filepath) as infile:\n",
    "    lines = infile.readlines()\n",
    "    \n",
    "piString = ''\n",
    "for line in lines:\n",
    "    piString += line.strip()\n",
    "    \n",
    "print(\"1234567890123456789012345678901234567890123456789012345678901234567890123456789012345678901234567890\")\n",
    "print(f\"{piString[:99]}...\")\n",
    "print(len(piString))"
   ]
  },
  {
   "cell_type": "code",
   "execution_count": 56,
   "id": "described-soccer",
   "metadata": {},
   "outputs": [
    {
     "name": "stdout",
     "output_type": "stream",
     "text": [
      "생일을 입력해주세요 yymmdd :\n",
      "생일이 pi안에 있습니다.\n",
      "0번째부터 있으며, 생일 앞뒤 5자리씩을 더 출력하면 입니다.\n"
     ]
    }
   ],
   "source": [
    "# 파이에서 내 생일 찾기\n",
    "filepath = 'inoutdata/mpidigits.txt'\n",
    "\n",
    "with open(filepath) as infile:\n",
    "    lines = infile.readlines()\n",
    "    \n",
    "piString = ''\n",
    "for line in lines:\n",
    "    piString += line.rstrip()\n",
    "    \n",
    "birthday = input(\"생일을 입력해주세요 yymmdd :\")\n",
    "if birthday in piString:\n",
    "    print(\"생일이 pi안에 있습니다.\")\n",
    "else:\n",
    "    print(\"생일이 pi안에 없습니다.\")\n",
    "    \n",
    "idx = piString.index(birthday)\n",
    "start = idx - 5\n",
    "end = idx + 10\n",
    "print(f\"{idx}번째부터 있으며, 생일 앞뒤 5자리씩을 더 출력하면 {piString[start:end]}입니다.\")"
   ]
  },
  {
   "cell_type": "code",
   "execution_count": 44,
   "id": "indonesian-fight",
   "metadata": {},
   "outputs": [],
   "source": [
    "# 파일에 쓰기\n",
    "filepath = 'inoutdata/output.txt'\n",
    "\n",
    "# access mode : w:wirte: 원래 있는 파일에 덮어쓰기, a:append : 원래 있는 파일에 추가 , r:read\n",
    "\n",
    "with open(filepath, 'w') as outfile:\n",
    "    outfile.write('I like c++.\\n')\n",
    "    outfile.write('I love promgramming.\\n')"
   ]
  },
  {
   "cell_type": "code",
   "execution_count": 45,
   "id": "russian-chase",
   "metadata": {},
   "outputs": [
    {
     "name": "stdout",
     "output_type": "stream",
     "text": [
      "Divide by zero!\n"
     ]
    }
   ],
   "source": [
    "# 예외 처리하기\n",
    "# try - except 블록\n",
    "try:\n",
    "    print(5/0)\n",
    "except ZeroDivisionError:\n",
    "    print(\"Divide by zero!\")"
   ]
  },
  {
   "cell_type": "code",
   "execution_count": 58,
   "id": "mediterranean-permit",
   "metadata": {},
   "outputs": [
    {
     "name": "stdout",
     "output_type": "stream",
     "text": [
      "두 개의 숫자를 입력해 주세요.\n",
      "그만두려면 q를 입력하세요.\n",
      "첫번째 숫자는?52\n",
      "두번째 숫자는?8\n",
      "6.5\n",
      "첫번째 숫자는?77\n",
      "두번째 숫자는?0\n",
      "0으로 나누려고 하고 있습니다.\n"
     ]
    }
   ],
   "source": [
    "# if 구문 사용, 오류 상황 회피\n",
    "print(\"두 개의 숫자를 입력해 주세요.\")\n",
    "print(\"그만두려면 q를 입력하세요.\")\n",
    "\n",
    "while True:\n",
    "    first = input(\"첫번째 숫자는?\")\n",
    "    if first == 'q':\n",
    "        break\n",
    "    second = input(\"두번째 숫자는?\")\n",
    "    if second == 'q':\n",
    "        break\n",
    "        \n",
    "    if int(second) == 0:\n",
    "        print(\"0으로 나누려고 하고 있습니다.\")\n",
    "        break;\n",
    "            \n",
    "    answer = int(first)/int(second)\n",
    "    print(answer)"
   ]
  },
  {
   "cell_type": "code",
   "execution_count": 59,
   "id": "another-overhead",
   "metadata": {},
   "outputs": [
    {
     "name": "stdout",
     "output_type": "stream",
     "text": [
      "두 개의 숫자를 입력해 주세요.\n",
      "그만두려면 q를 입력하세요.\n",
      "첫번째 숫자는?5\n",
      "두번째 숫자는?0\n",
      "0으로 나누는 오류가 발생했습니다.\n",
      "첫번째 숫자는?5\n",
      "두번째 숫자는?5\n",
      "1.0\n",
      "첫번째 숫자는?q\n"
     ]
    }
   ],
   "source": [
    "# try-except-else 사용, 오류 회피 및 정상 처리\n",
    "print(\"두 개의 숫자를 입력해 주세요.\")\n",
    "print(\"그만두려면 q를 입력하세요.\")\n",
    "\n",
    "while True:\n",
    "    first = input(\"첫번째 숫자는?\")\n",
    "    if first == 'q':\n",
    "        break\n",
    "    second = input(\"두번째 숫자는?\")\n",
    "    if second == 'q':\n",
    "        break\n",
    "    try:\n",
    "        answer = int(first)/int(second)\n",
    "    except ZeroDivisionError :\n",
    "        print(\"0으로 나누는 오류가 발생했습니다.\")\n",
    "    else:\n",
    "        print(answer)"
   ]
  },
  {
   "cell_type": "code",
   "execution_count": 64,
   "id": "proper-course",
   "metadata": {},
   "outputs": [
    {
     "name": "stdout",
     "output_type": "stream",
     "text": [
      "3.1415926535\n",
      "  8979323846\n",
      "  2643383279\n",
      "\n"
     ]
    }
   ],
   "source": [
    "# FileNotFoundError 예외 상황 처리\n",
    "filename = 'inoutdata/pidigits.txt'\n",
    "try:\n",
    "    with open(filename) as f:\n",
    "        contents = f.read()\n",
    "except FileNotFoundError:\n",
    "    print(f\"{filename}이 존재하지 않습니다.\")\n",
    "else:\n",
    "    print(contents)"
   ]
  },
  {
   "cell_type": "code",
   "execution_count": 72,
   "id": "colored-imagination",
   "metadata": {},
   "outputs": [
    {
     "name": "stdout",
     "output_type": "stream",
     "text": [
      "파일은 약 17842개의 단어를 포함하고 있습니다.\n"
     ]
    }
   ],
   "source": [
    "# 텍스트 분석\n",
    "filename = 'inoutdata/alice.txt'\n",
    "\n",
    "try:\n",
    "    with open(filename) as f:\n",
    "        contents = f.read()\n",
    "except FileNotFoundError:\n",
    "    print(f\"파일이 존재하지 않습니다.\")\n",
    "else:\n",
    "    words = contents.split()\n",
    "    num_words = len(words)\n",
    "    print(f\"파일은 약 {num_words}개의 단어를 포함하고 있습니다.\")"
   ]
  },
  {
   "cell_type": "code",
   "execution_count": 81,
   "id": "regulation-resolution",
   "metadata": {},
   "outputs": [
    {
     "name": "stdout",
     "output_type": "stream",
     "text": [
      "파일은 약 17842개의 단어를 포함하고 있습니다.\n",
      "파일은 약 31210개의 단어를 포함하고 있습니다.\n"
     ]
    }
   ],
   "source": [
    "# 여러 파일 다루기\n",
    "def count_words(filename):\n",
    "    try:\n",
    "        with open(filename, encoding = 'UTF-8') as f:\n",
    "            contents = f.read()\n",
    "    except FileNotFoundError:\n",
    "        print(f\"파일이 존재하지 않습니다.\")\n",
    "    else:\n",
    "        words = contents.split()\n",
    "        num_words = len(words)\n",
    "        print(f\"파일은 약 {num_words}개의 단어를 포함하고 있습니다.\")\n",
    "        \n",
    "        \n",
    "filenames = ['inoutdata/alice.txt', 'inoutdata/uncletom.txt']\n",
    "for filename in filenames:\n",
    "    count_words(filename)"
   ]
  },
  {
   "cell_type": "code",
   "execution_count": 83,
   "id": "secondary-publisher",
   "metadata": {},
   "outputs": [],
   "source": [
    "# 데이터 저장과 재사용\n",
    "import json\n",
    "numbers = [1,2,3,4,5,6,7,8,9,10]\n",
    "\n",
    "filename = 'inoutdata/numbers.json'\n",
    "with open(filename, 'w') as outf:\n",
    "    json.dump(numbers, outf)"
   ]
  },
  {
   "cell_type": "code",
   "execution_count": 84,
   "id": "developmental-trash",
   "metadata": {},
   "outputs": [
    {
     "name": "stdout",
     "output_type": "stream",
     "text": [
      "[1, 2, 3, 4, 5, 6, 7, 8, 9, 10]\n"
     ]
    }
   ],
   "source": [
    "with open(filename) as inf:\n",
    "    rnumbers = json.load(inf)\n",
    "print(rnumbers)"
   ]
  },
  {
   "cell_type": "code",
   "execution_count": 52,
   "id": "dynamic-brisbane",
   "metadata": {},
   "outputs": [],
   "source": [
    "# 리팩터링의 개념 소개"
   ]
  },
  {
   "cell_type": "markdown",
   "id": "concerned-poster",
   "metadata": {},
   "source": [
    "## 코드 테스트"
   ]
  },
  {
   "cell_type": "markdown",
   "id": "republican-departure",
   "metadata": {},
   "source": [
    "**<10-6>**"
   ]
  },
  {
   "cell_type": "code",
   "execution_count": null,
   "id": "radical-hotel",
   "metadata": {},
   "outputs": [],
   "source": [
    "filename = jhjhklklk"
   ]
  }
 ],
 "metadata": {
  "kernelspec": {
   "display_name": "Python 3",
   "language": "python",
   "name": "python3"
  },
  "language_info": {
   "codemirror_mode": {
    "name": "ipython",
    "version": 3
   },
   "file_extension": ".py",
   "mimetype": "text/x-python",
   "name": "python",
   "nbconvert_exporter": "python",
   "pygments_lexer": "ipython3",
   "version": "3.9.1"
  }
 },
 "nbformat": 4,
 "nbformat_minor": 5
}
