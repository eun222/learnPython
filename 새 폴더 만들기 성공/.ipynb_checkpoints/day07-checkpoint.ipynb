{
 "cells": [
  {
   "cell_type": "markdown",
   "id": "pleased-desperate",
   "metadata": {},
   "source": [
    "# 7일차 수업"
   ]
  },
  {
   "cell_type": "code",
   "execution_count": 1,
   "id": "frozen-award",
   "metadata": {},
   "outputs": [],
   "source": [
    "# 클래스 생성\n",
    "# class 클래스이름\n",
    "#     속성리스트\n",
    "#     메서드리스트\n",
    "\n"
   ]
  },
  {
   "cell_type": "code",
   "execution_count": 4,
   "id": "oriented-bubble",
   "metadata": {},
   "outputs": [],
   "source": [
    "class Dog:\n",
    "    def __init__(self, name, age):   # constructor, 생성자\n",
    "        '''생성자, 이름과 나이를 패러미터로 받아 초기화'''\n",
    "        self.name = name\n",
    "        self.age = age\n",
    "        \n",
    "    def sit(self):\n",
    "        print(f\"{self.name} is now sitting.\")\n",
    "        \n",
    "    def roll_over(self):\n",
    "        print(f\"{self.name} rolled over!\")\n",
    "        \n",
    "        \n",
    "    def describe(self):\n",
    "        print(f\"{self.name} is {self.age} year old\")\n",
    "        \n",
    "        "
   ]
  },
  {
   "cell_type": "code",
   "execution_count": 6,
   "id": "arranged-workshop",
   "metadata": {},
   "outputs": [],
   "source": [
    "mydog = Dog(\"Wille\", 5)"
   ]
  },
  {
   "cell_type": "code",
   "execution_count": 10,
   "id": "comparative-cabinet",
   "metadata": {},
   "outputs": [
    {
     "name": "stdout",
     "output_type": "stream",
     "text": [
      "Wille is 5 year old\n",
      "Wille is now sitting.\n",
      "Wille rolled over!\n"
     ]
    }
   ],
   "source": [
    "mydog.describe()\n",
    "mydog.sit()\n",
    "mydog.roll_over()"
   ]
  },
  {
   "cell_type": "code",
   "execution_count": 11,
   "id": "equipped-waste",
   "metadata": {},
   "outputs": [],
   "source": [
    "urdog = Dog(\"Mark\", 3)"
   ]
  },
  {
   "cell_type": "code",
   "execution_count": 12,
   "id": "pending-motorcycle",
   "metadata": {},
   "outputs": [
    {
     "name": "stdout",
     "output_type": "stream",
     "text": [
      "Mark is 3 year old\n",
      "Mark is now sitting.\n",
      "Mark rolled over!\n"
     ]
    }
   ],
   "source": [
    "urdog.describe()\n",
    "urdog.sit()\n",
    "urdog.roll_over()"
   ]
  },
  {
   "cell_type": "code",
   "execution_count": 13,
   "id": "former-breed",
   "metadata": {},
   "outputs": [
    {
     "data": {
      "text/plain": [
       "'Wille'"
      ]
     },
     "execution_count": 13,
     "metadata": {},
     "output_type": "execute_result"
    }
   ],
   "source": [
    "mydog.name"
   ]
  },
  {
   "cell_type": "code",
   "execution_count": 14,
   "id": "single-newark",
   "metadata": {},
   "outputs": [
    {
     "data": {
      "text/plain": [
       "5"
      ]
     },
     "execution_count": 14,
     "metadata": {},
     "output_type": "execute_result"
    }
   ],
   "source": [
    "mydog.age"
   ]
  },
  {
   "cell_type": "markdown",
   "id": "offshore-jimmy",
   "metadata": {},
   "source": [
    "**<9-1>** 레스토랑 : Restaurant 클래스를 만드세요. Restaurant의 __init__() 메서드는 restaurant_name과 cuisine_type 두 가지 속성을 저장해야 합니다. 이들 정보를 출력하는 descrive_restaurant() 메서드와 레스토랑이 열렸다는 메시지를 출력하는 open_restaurant() 메서드를 만드세요."
   ]
  },
  {
   "cell_type": "code",
   "execution_count": 24,
   "id": "fixed-scanning",
   "metadata": {},
   "outputs": [],
   "source": [
    "class Restaurant:\n",
    "    def __init__(self, restaurant_name, cuisine_type):\n",
    "        self.restaurant_name = restaurant_name\n",
    "        self.cuisine_type = cuisine_type\n",
    "        \n",
    "    def describe_restaurant(self):\n",
    "        print(f\"저희 레스토랑 이름은 {self.restaurant_name} 입니다.\")\n",
    "        print(f\"저희 레스토랑의 음식 타입은 {self.cuisine_type} 입니다.\")\n",
    "        \n",
    "    def open_restaurant(self):\n",
    "        print(f\"{self.restaurant_name} 매장이 열려있습니다.\")"
   ]
  },
  {
   "cell_type": "code",
   "execution_count": 28,
   "id": "basic-chorus",
   "metadata": {},
   "outputs": [],
   "source": [
    "restaurant = Restaurant(\"Mark\", \"양식\")"
   ]
  },
  {
   "cell_type": "code",
   "execution_count": 29,
   "id": "honest-sydney",
   "metadata": {},
   "outputs": [
    {
     "name": "stdout",
     "output_type": "stream",
     "text": [
      "저희 레스토랑 이름은 Mark 입니다.\n",
      "저희 레스토랑의 음식 타입은 양식 입니다.\n",
      "Mark 매장이 열려있습니다.\n"
     ]
    }
   ],
   "source": [
    "restaurant.describe_restaurant()\n",
    "restaurant.open_restaurant()"
   ]
  },
  {
   "cell_type": "markdown",
   "id": "latin-desert",
   "metadata": {},
   "source": [
    "**<9-2>** 세 레스토랑 : 연습문제 9-1의 클래스에서 시작하세요. 클래스에서 세 가지 인스턴스를 만들고 각 인스턴스에서 describe_restaurant()을 호출하세요."
   ]
  },
  {
   "cell_type": "code",
   "execution_count": 32,
   "id": "compressed-institute",
   "metadata": {},
   "outputs": [],
   "source": [
    "myrestaurant = Restaurant(\"My\", \"중식\")\n",
    "yourestaurant = Restaurant(\"You\", \"한식\")\n",
    "werestaurant = Restaurant(\"We\", \"양식\")"
   ]
  },
  {
   "cell_type": "code",
   "execution_count": 33,
   "id": "excited-barrel",
   "metadata": {},
   "outputs": [
    {
     "name": "stdout",
     "output_type": "stream",
     "text": [
      "저희 레스토랑 이름은 My 입니다.\n",
      "저희 레스토랑의 음식 타입은 중식 입니다.\n",
      "저희 레스토랑 이름은 You 입니다.\n",
      "저희 레스토랑의 음식 타입은 한식 입니다.\n",
      "저희 레스토랑 이름은 We 입니다.\n",
      "저희 레스토랑의 음식 타입은 양식 입니다.\n"
     ]
    }
   ],
   "source": [
    "myrestaurant.describe_restaurant()\n",
    "yourestaurant.describe_restaurant()\n",
    "werestaurant.describe_restaurant()"
   ]
  },
  {
   "cell_type": "markdown",
   "id": "wrong-optimization",
   "metadata": {},
   "source": [
    "**<9-3>** 사용자 : User 클래스를 만드세요. first_name과 last_name 속성을 만들고 일반적으로 사용자 프로필에 저장할 만한 여러 가지 다른 속성을 추가하세요. 사용자 정보를 요약해 출력하는 describe_user() 메서드를 만드세요. 사용자에게 환영인사를 보내는 greet_user() 메서드를 만드세요."
   ]
  },
  {
   "cell_type": "code",
   "execution_count": 53,
   "id": "greater-patch",
   "metadata": {},
   "outputs": [],
   "source": [
    "class User:\n",
    "    def __init__(self, first_name , last_name , gender):\n",
    "        self.first_name = first_name\n",
    "        self.last_name = last_name\n",
    "        self.gender = gender\n",
    "        \n",
    "    def describe_user(self):\n",
    "        print(f\"고객의 이름은 {self.first_name}{self.last_name}이고 성별은 {self.gender}입니다.\")\n",
    "        \n",
    "    def greet_user(self):\n",
    "        print(f\"{self.first_name}{self.last_name} 고객님 환영합니다.\")"
   ]
  },
  {
   "cell_type": "code",
   "execution_count": 54,
   "id": "medieval-somerset",
   "metadata": {},
   "outputs": [],
   "source": [
    "my = User(\"정\", \"재은\" , \"여성\")"
   ]
  },
  {
   "cell_type": "code",
   "execution_count": 55,
   "id": "practical-strength",
   "metadata": {
    "scrolled": false
   },
   "outputs": [
    {
     "name": "stdout",
     "output_type": "stream",
     "text": [
      "고객의 이름은 정재은이고 성별은 여성입니다.\n",
      "정재은 고객님 환영합니다.\n"
     ]
    }
   ],
   "source": [
    "my.describe_user()\n",
    "my.greet_user()"
   ]
  },
  {
   "cell_type": "code",
   "execution_count": 68,
   "id": "broad-bruce",
   "metadata": {},
   "outputs": [],
   "source": [
    "class Car:\n",
    "    def __init__(self, maker, model, year):\n",
    "        self.maker = maker\n",
    "        self.model = model\n",
    "        self.year = year\n",
    "        self.odometer = 0\n",
    "        \n",
    "    def descriptive_name(self):\n",
    "        long_name = f\"{self.year} {self. maker} {self.model}\"\n",
    "        return long_name\n",
    "    \n",
    "    def run(self, running):\n",
    "        self.odometer += running\n",
    "    \n",
    "    def showinfo(self):\n",
    "        print(f\"이 자동차의 총 주행거리는 {self.odometer}Km 입니다.\")\n",
    "        \n"
   ]
  },
  {
   "cell_type": "code",
   "execution_count": 69,
   "id": "needed-ivory",
   "metadata": {},
   "outputs": [
    {
     "name": "stdout",
     "output_type": "stream",
     "text": [
      "2021 현대 그랜져\n",
      "이 자동차의 총 주행거리는 0Km 입니다.\n",
      "이 자동차의 총 주행거리는 250Km 입니다.\n"
     ]
    }
   ],
   "source": [
    "mycar = Car(\"현대\", \"그랜져\", 2021 )\n",
    "print(mycar.descriptive_name())\n",
    "mycar.showinfo()\n",
    "mycar.run(250)\n",
    "mycar.showinfo()"
   ]
  },
  {
   "cell_type": "code",
   "execution_count": 78,
   "id": "graphic-eating",
   "metadata": {},
   "outputs": [],
   "source": [
    "# 클레스 상속\n",
    "# 서브클래스 이름(슈퍼클래스)\n",
    "class ElectricCar(Car):\n",
    "    def __init__(self, maker, model, year):\n",
    "        super().__init__(maker, model, year)\n",
    "        self.batterySize = 75\n",
    "    def desribeBatterySize(self):\n",
    "        print(f\"이 차의 배터리 용량은 {self.batterySize}KWh 입니다.\")\n",
    "    def run(self, running):       # 오버라이드\n",
    "        self.odometer += running\n",
    "        self.batterySize -= 10\n",
    "    def showinfo(self):      # 오버라이드\n",
    "        print(f\"이 자동차의 총 주행거리는 {self.odometer}Km이고, 잔여 배터리는{self.batterySize}KWh 입니다. \")"
   ]
  },
  {
   "cell_type": "code",
   "execution_count": 82,
   "id": "combined-measurement",
   "metadata": {},
   "outputs": [
    {
     "name": "stdout",
     "output_type": "stream",
     "text": [
      "2021 tesia modle s\n",
      "이 차의 배터리 용량은 75KWh 입니다.\n",
      "이 자동차의 총 주행거리는 30Km이고, 잔여 배터리는65KWh 입니다. \n"
     ]
    }
   ],
   "source": [
    "myTesia = ElectricCar(\"tesia\", \"modle s\", \"2021\")\n",
    "print(myTesia.descriptive_name())\n",
    "myTesia.desribeBatterySize()\n",
    "myTesia.run(30)\n",
    "myTesia.showinfo()"
   ]
  },
  {
   "cell_type": "markdown",
   "id": "medical-september",
   "metadata": {},
   "source": [
    "**<9-4>** 고객숫자 : 연습문제 9-1의 프로그램에서 시작하세요. 기본값이 0인 number_served 속성(서빙한 고객 숫자)을 추가하세요. 이 클래스에서 restaurant 인스턴스를 만드세요. 헤스토랑에서 서빙한 고객 숫자를 출력하고, 이 값을 바꿔서 다시 출력하세요."
   ]
  },
  {
   "cell_type": "code",
   "execution_count": 92,
   "id": "recorded-wellington",
   "metadata": {},
   "outputs": [],
   "source": [
    "class Restaurant:\n",
    "    def __init__(self, restaurant_name, cuisine_type):\n",
    "        self.restaurant_name = restaurant_name\n",
    "        self.cuisine_type = cuisine_type\n",
    "        self.number_served = 0\n",
    "        \n",
    "    def describe_restaurant(self):\n",
    "        print(f\"저희 레스토랑 이름은 {self.restaurant_name} 입니다.\")\n",
    "        print(f\"저희 레스토랑의 음식 타입은 {self.cuisine_type} 입니다.\")\n",
    "        print(f\"저희 레스토랑에서 서빙한 고객은 {self.number_served}명 입니다.\")\n",
    "        \n",
    "    def open_restaurant(self):\n",
    "        print(f\"{self.restaurant_name} 매장이 열려있습니다.\")\n",
    "        \n",
    "        \n",
    "    def set_customer(self, number):\n",
    "        self.number_served = number\n",
    "        "
   ]
  },
  {
   "cell_type": "code",
   "execution_count": 93,
   "id": "legislative-little",
   "metadata": {},
   "outputs": [],
   "source": [
    "mrestaurant = Restaurant(\"kk\",\"chn\")"
   ]
  },
  {
   "cell_type": "code",
   "execution_count": 94,
   "id": "fitted-issue",
   "metadata": {},
   "outputs": [],
   "source": [
    "mrestaurant.set_customer(100)"
   ]
  },
  {
   "cell_type": "code",
   "execution_count": 95,
   "id": "excited-execution",
   "metadata": {},
   "outputs": [
    {
     "name": "stdout",
     "output_type": "stream",
     "text": [
      "저희 레스토랑 이름은 kk 입니다.\n",
      "저희 레스토랑의 음식 타입은 chn 입니다.\n",
      "저희 레스토랑에서 서빙한 고객은 100명 입니다.\n"
     ]
    }
   ],
   "source": [
    "mrestaurant.describe_restaurant()"
   ]
  },
  {
   "cell_type": "code",
   "execution_count": null,
   "id": "three-demonstration",
   "metadata": {},
   "outputs": [],
   "source": []
  }
 ],
 "metadata": {
  "kernelspec": {
   "display_name": "Python 3",
   "language": "python",
   "name": "python3"
  },
  "language_info": {
   "codemirror_mode": {
    "name": "ipython",
    "version": 3
   },
   "file_extension": ".py",
   "mimetype": "text/x-python",
   "name": "python",
   "nbconvert_exporter": "python",
   "pygments_lexer": "ipython3",
   "version": "3.9.1"
  }
 },
 "nbformat": 4,
 "nbformat_minor": 5
}
