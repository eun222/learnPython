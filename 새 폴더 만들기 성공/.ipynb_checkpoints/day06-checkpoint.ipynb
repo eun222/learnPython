{
 "cells": [
  {
   "cell_type": "code",
   "execution_count": 8,
   "id": "functioning-bristol",
   "metadata": {},
   "outputs": [],
   "source": [
    "# def 함수이름(패러미터리스트):   parameter, 인수, 인자, 매개변수\n",
    "#     함수의 내용, function body\n",
    "#\n",
    "\n",
    "def greetings(user, times):\n",
    "    if times == '아침':\n",
    "        print(f\"{user}, 아침은 드셨나요?\")\n",
    "    elif times == '점심':\n",
    "        print(f\"{user}, 날씨가 참 좋아요\")\n",
    "    elif times == '저녁':\n",
    "        print(f\"{user}, 편히 쉬셔유-\")\n",
    "    else :\n",
    "        print(f\"{user}, 안녕하세요\")"
   ]
  },
  {
   "cell_type": "code",
   "execution_count": 12,
   "id": "welcome-convertible",
   "metadata": {},
   "outputs": [
    {
     "name": "stdout",
     "output_type": "stream",
     "text": [
      "아저씨, 아침은 드셨나요?\n",
      "아주머니, 날씨가 참 좋아요\n",
      "아저씨, 편히 쉬셔유-\n",
      ", 안녕하세요\n"
     ]
    }
   ],
   "source": [
    "# 함수 호출, 함수 사용\n",
    "greetings(\"아저씨\",\"아침\")\n",
    "greetings(\"아주머니\",\"점심\")\n",
    "greetings(\"아저씨\",\"저녁\")\n",
    "greetings(\"\",\"\")"
   ]
  },
  {
   "cell_type": "code",
   "execution_count": 17,
   "id": "extra-flashing",
   "metadata": {},
   "outputs": [
    {
     "name": "stdout",
     "output_type": "stream",
     "text": [
      "My햄스터의 이름은 harry입니다.\n"
     ]
    }
   ],
   "source": [
    "# 키워드 매개변수\n",
    "def describe(animalType, petName):\n",
    "    print(f\"My{animalType}의 이름은 {petName}입니다.\")\n",
    "    \n",
    "describe(animalType = '햄스터', petName = \"harry\" )"
   ]
  },
  {
   "cell_type": "markdown",
   "id": "acoustic-cemetery",
   "metadata": {},
   "source": [
    "**<연습문제 8-3>** 티셔츠 사이즈와 티셔츠에 인쇄할 메시지를 받는 make_shirt()함수를, 위치형 매개변수와 키워드 매개변수를 사용하는 방식으로 각각 프로그래밍 하시오. "
   ]
  },
  {
   "cell_type": "code",
   "execution_count": null,
   "id": "billion-command",
   "metadata": {},
   "outputs": [],
   "source": [
    "def make_shirt(size, message):\n",
    "    pirnt(f\"SIZE : {size}, Message : {message}\")\n",
    "    \n",
    "def make_shirt(size, message='Hi, There'):\n",
    "    pirnt(f\"SIZE : {size}, Message : {message}\")\n",
    "    \n",
    "make_shirtK(size = 'small', message = 'Hello World')\n",
    "make_shirtK( message = 'Hello World', size = 'small )\n",
    "\n"
   ]
  },
  {
   "cell_type": "code",
   "execution_count": 18,
   "id": "breeding-bunny",
   "metadata": {},
   "outputs": [
    {
     "name": "stdout",
     "output_type": "stream",
     "text": [
      "4\n"
     ]
    }
   ],
   "source": [
    "# 함수의 반환값\n",
    "def add(n1,n2):\n",
    "    result = n1 + n2\n",
    "    return result\n",
    "\n",
    "a = add(1,3)\n",
    "print(a)"
   ]
  },
  {
   "cell_type": "code",
   "execution_count": 22,
   "id": "annual-present",
   "metadata": {},
   "outputs": [
    {
     "name": "stdout",
     "output_type": "stream",
     "text": [
      "{'first': 'kim', 'last': 'yushin', 'age': 21}\n"
     ]
    }
   ],
   "source": [
    "def build_person(first_name, last_name, age = None):\n",
    "    person = {'first': first_name, 'last' : last_name}\n",
    "    if age:\n",
    "        person['age'] = age\n",
    "    \n",
    "    return person \n",
    "\n",
    "musician = build_person('kim','yushin', age = 21)\n",
    "print(musician)"
   ]
  },
  {
   "cell_type": "code",
   "execution_count": 33,
   "id": "democratic-dylan",
   "metadata": {},
   "outputs": [
    {
     "name": "stdout",
     "output_type": "stream",
     "text": [
      "enter 'q' at any time to quit\n",
      "input City :santiago\n",
      "input Country : chile\n",
      "Santiago, Chile\n",
      "enter 'q' at any time to quit\n",
      "input City :q\n",
      "input Country : q\n"
     ]
    }
   ],
   "source": [
    "def city_country(city, country):\n",
    "    return f\"{city}, {country}\".title()\n",
    "\n",
    "while True:\n",
    "    print(\"enter 'q' at any time to quit\")\n",
    "    city = input(\"input City :\")\n",
    "    country = input(\"input Country : \")\n",
    "    \n",
    "    if city == 'q' or country == 'q' : break\n",
    "        \n",
    "    print(city_country(city,country))\n"
   ]
  },
  {
   "cell_type": "code",
   "execution_count": 34,
   "id": "dress-profession",
   "metadata": {},
   "outputs": [
    {
     "name": "stdout",
     "output_type": "stream",
     "text": [
      "('홍길동',)\n",
      "('용주', '동진', '정호', '지은', '재은')\n"
     ]
    }
   ],
   "source": [
    "def chk_attend(*students):\n",
    "    \"\"\"출석한 학생들의 리스트를 출력해주는 함수\"\"\"\n",
    "    print(students) # 전달된 학생 명단을 튜플로 구성하여 출력함\n",
    "    \n",
    "chk_attend('홍길동')\n",
    "chk_attend('용주', '동진', '정호', '지은', '재은')"
   ]
  },
  {
   "cell_type": "markdown",
   "id": "whole-reserve",
   "metadata": {},
   "source": [
    "**<연습문제 8-13>** 사용자 프로필 : 방금 만들었던 user_profile.py의 사본에서 시작하세요. build_profile()을 호출해서 당신 자신의 프로필을 만들어 보세요. 당신의 성과 이름을 쓰고, 당신에 관한 세 가지 키-값 쌍을 추가하세요."
   ]
  },
  {
   "cell_type": "code",
   "execution_count": 37,
   "id": "mechanical-attack",
   "metadata": {},
   "outputs": [
    {
     "name": "stdout",
     "output_type": "stream",
     "text": [
      "{'location': '청주시', 'field': 'computer', 'first_name': '정', 'last_name': '재은'}\n"
     ]
    }
   ],
   "source": [
    "def build_profile(first, last, **user_info):\n",
    "    user_info['first_name'] = first\n",
    "    user_info['last_name'] = last\n",
    "    return user_info\n",
    "\n",
    "user_profile = build_profile('정','재은',\n",
    "                            location = '청주시',\n",
    "                            field = 'computer')\n",
    "print(user_profile)"
   ]
  },
  {
   "cell_type": "code",
   "execution_count": 42,
   "id": "thermal-rabbit",
   "metadata": {},
   "outputs": [
    {
     "data": {
      "text/plain": [
       "0.010057502180287003"
      ]
     },
     "execution_count": 42,
     "metadata": {},
     "output_type": "execute_result"
    }
   ],
   "source": [
    "import random\n",
    "random.random()"
   ]
  }
 ],
 "metadata": {
  "kernelspec": {
   "display_name": "Python 3",
   "language": "python",
   "name": "python3"
  },
  "language_info": {
   "codemirror_mode": {
    "name": "ipython",
    "version": 3
   },
   "file_extension": ".py",
   "mimetype": "text/x-python",
   "name": "python",
   "nbconvert_exporter": "python",
   "pygments_lexer": "ipython3",
   "version": "3.9.1"
  }
 },
 "nbformat": 4,
 "nbformat_minor": 5
}
